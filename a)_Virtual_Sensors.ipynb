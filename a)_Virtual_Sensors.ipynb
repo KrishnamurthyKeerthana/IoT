{
  "nbformat": 4,
  "nbformat_minor": 0,
  "metadata": {
    "colab": {
      "provenance": []
    },
    "kernelspec": {
      "name": "python3",
      "display_name": "Python 3"
    },
    "language_info": {
      "name": "python"
    }
  },
  "cells": [
    {
      "cell_type": "code",
      "execution_count": 19,
      "metadata": {
        "id": "k90Kc4ukVYLx",
        "colab": {
          "base_uri": "https://localhost:8080/"
        },
        "outputId": "bae50fcd-83b0-44e7-c039-4f8a209081cf"
      },
      "outputs": [
        {
          "output_type": "stream",
          "name": "stderr",
          "text": [
            "<ipython-input-19-5ea6e729d133>:37: DeprecationWarning: Callback API version 1 is deprecated, update to latest version\n",
            "  mqtt_client = mqtt.Client(mqtt.CallbackAPIVersion.VERSION1,client_id=client_id)\n"
          ]
        },
        {
          "output_type": "stream",
          "name": "stdout",
          "text": [
            "Station c2771e28-91d3-42b1-87ef-3eb22161e3ee Data: {'temperature': -35.12284774403219, 'humidity': 84.57431006310736, 'co2': 854.7261174337831}\n",
            "Station 664a5832-c1be-4140-bc51-708b0905a78d Data: {'temperature': 1.4534103016462439, 'humidity': 21.48376769218642, 'co2': 888.4370695472815}\n",
            "Station 7ab29274-a164-46aa-9768-f48c1c213806 Data: {'temperature': -37.77885101279674, 'humidity': 24.37483411598412, 'co2': 421.33052929578264}\n",
            "Station c2771e28-91d3-42b1-87ef-3eb22161e3ee Data: {'temperature': -34.6632497590194, 'humidity': 80.92896261976966, 'co2': 417.1916070811068}\n",
            "Station 664a5832-c1be-4140-bc51-708b0905a78d Data: {'temperature': 46.26334115565068, 'humidity': 93.1795769769358, 'co2': 1285.251684231028}\n",
            "Station 7ab29274-a164-46aa-9768-f48c1c213806 Data: {'temperature': -27.41859236698032, 'humidity': 24.41055822977659, 'co2': 830.2280840254687}\n",
            "Station c2771e28-91d3-42b1-87ef-3eb22161e3ee Data: {'temperature': 45.355968649352675, 'humidity': 91.44661248497594, 'co2': 1087.7879712000276}\n",
            "Station 664a5832-c1be-4140-bc51-708b0905a78d Data: {'temperature': -44.39000368495515, 'humidity': 84.62790003770134, 'co2': 408.8073409765464}\n",
            "Station 7ab29274-a164-46aa-9768-f48c1c213806 Data: {'temperature': 14.021242411264083, 'humidity': 32.43880688215833, 'co2': 551.4816480203566}\n",
            "Station c2771e28-91d3-42b1-87ef-3eb22161e3ee Data: {'temperature': -37.809580334049286, 'humidity': 33.47906214760984, 'co2': 1359.719521262182}\n",
            "Station 664a5832-c1be-4140-bc51-708b0905a78d Data: {'temperature': -44.582308999266886, 'humidity': 93.0130635524518, 'co2': 441.22394180198864}\n",
            "Station 7ab29274-a164-46aa-9768-f48c1c213806 Data: {'temperature': -42.37245858131985, 'humidity': 65.08894255561495, 'co2': 1247.6477383778029}\n",
            "Station c2771e28-91d3-42b1-87ef-3eb22161e3ee Data: {'temperature': -29.666885080080064, 'humidity': 52.713777431202416, 'co2': 628.4070390409049}\n",
            "Station 664a5832-c1be-4140-bc51-708b0905a78d Data: {'temperature': 39.325888191134055, 'humidity': 5.5552741967683446, 'co2': 732.5511259894353}\n",
            "Station 7ab29274-a164-46aa-9768-f48c1c213806 Data: {'temperature': 20.120704902000156, 'humidity': 79.9774804947255, 'co2': 987.6582708558544}\n",
            "Station c2771e28-91d3-42b1-87ef-3eb22161e3ee Data: {'temperature': -27.14017817268777, 'humidity': 29.572524382052766, 'co2': 1110.245027772783}\n",
            "Station 664a5832-c1be-4140-bc51-708b0905a78d Data: {'temperature': 24.293793821749745, 'humidity': 43.900730459054884, 'co2': 1058.029408040598}\n",
            "Station 7ab29274-a164-46aa-9768-f48c1c213806 Data: {'temperature': -40.491831615872265, 'humidity': 68.56698511385821, 'co2': 1909.1067470453117}\n"
          ]
        },
        {
          "output_type": "execute_result",
          "data": {
            "text/plain": [
              "<MQTTErrorCode.MQTT_ERR_SUCCESS: 0>"
            ]
          },
          "metadata": {},
          "execution_count": 19
        }
      ],
      "source": [
        "import random\n",
        "import time\n",
        "import uuid\n",
        "import paho.mqtt.client as mqtt\n",
        "\n",
        "class EnvironmentalStation:\n",
        "    def __init__(self, mqtt_client):\n",
        "        self.id = uuid.uuid4()\n",
        "        self.mqtt_client = mqtt_client\n",
        "        self.temperature_range = (-50, 50)\n",
        "        self.humidity_range = (0, 100)\n",
        "        self.co2_range = (300, 2000)\n",
        "\n",
        "    def generate_sensor_data(self):\n",
        "        temperature = random.uniform(*self.temperature_range)\n",
        "        humidity = random.uniform(*self.humidity_range)\n",
        "        co2 = random.uniform(*self.co2_range)\n",
        "        return {'temperature': temperature, 'humidity': humidity, 'co2': co2}\n",
        "\n",
        "    def publish_data(self, channel_id):\n",
        "        sensor_data = self.generate_sensor_data()\n",
        "        print(f\"Station {self.id} Data: {sensor_data}\")\n",
        "        payload = \"field1=\" + str(sensor_data['temperature']) + \"&field2=\" + str(sensor_data['humidity']) + \"&field3=\" + str(sensor_data['co2'])\n",
        "        topic = f\"channels/{channel_id}/publish\"\n",
        "        self.mqtt_client.publish(topic, payload)\n",
        "\n",
        "def simulate_stations(n_stations, duration, frequency, mqtt_client, channel_id):\n",
        "    stations = [EnvironmentalStation(mqtt_client) for _ in range(n_stations)]\n",
        "    start_time = time.time()\n",
        "    while time.time() - start_time < duration:\n",
        "        for station in stations:\n",
        "            station.publish_data(channel_id)\n",
        "        time.sleep(frequency)\n",
        "\n",
        "# MQTT Client setup\n",
        "client_id = \"ICUxASQMAQ4yHDQ4KiYACS8\"\n",
        "mqtt_client = mqtt.Client(mqtt.CallbackAPIVersion.VERSION1,client_id=client_id)\n",
        "mqtt_client.username_pw_set(username=\"ICUxASQMAQ4yHDQ4KiYACS8\", password=\"h9tu7qpKJU8gVphYkNXGiZ5F\")\n",
        "\n",
        "# Connect to the MQTT broker\n",
        "mqtt_client.connect(\"mqtt3.thingspeak.com\", 1883)\n",
        "\n",
        "# Example usage: Simulating 3 stations for 60 seconds with data generation every 10 seconds\n",
        "simulate_stations(3, 60, 10, mqtt_client, \"2485227\")\n",
        "\n",
        "# Disconnect from the MQTT broker\n",
        "mqtt_client.disconnect()\n"
      ]
    }
  ]
}